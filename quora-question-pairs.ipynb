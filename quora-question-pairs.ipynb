{
 "cells": [
  {
   "cell_type": "markdown",
   "metadata": {},
   "source": [
    "# Machine Learning Engineer Nanodegree\n",
    "## Capstone\n",
    "## Project: Quora Question Pairs\n",
    "Determine if a pair of questions submitted to Quora are duplicates with the same intent."
   ]
  },
  {
   "cell_type": "code",
   "execution_count": 1,
   "metadata": {
    "collapsed": true
   },
   "outputs": [],
   "source": [
    "# Import libraries necessary for this project\n",
    "import numpy as np\n",
    "import pandas as pd"
   ]
  },
  {
   "cell_type": "markdown",
   "metadata": {},
   "source": [
    "### Data Exploration"
   ]
  },
  {
   "cell_type": "code",
   "execution_count": 2,
   "metadata": {
    "collapsed": false
   },
   "outputs": [
    {
     "data": {
      "text/html": [
       "<div>\n",
       "<table border=\"1\" class=\"dataframe\">\n",
       "  <thead>\n",
       "    <tr style=\"text-align: right;\">\n",
       "      <th></th>\n",
       "      <th>id</th>\n",
       "      <th>qid1</th>\n",
       "      <th>qid2</th>\n",
       "      <th>question1</th>\n",
       "      <th>question2</th>\n",
       "      <th>is_duplicate</th>\n",
       "    </tr>\n",
       "  </thead>\n",
       "  <tbody>\n",
       "    <tr>\n",
       "      <th>0</th>\n",
       "      <td>0</td>\n",
       "      <td>1</td>\n",
       "      <td>2</td>\n",
       "      <td>What is the step by step guide to invest in sh...</td>\n",
       "      <td>What is the step by step guide to invest in sh...</td>\n",
       "      <td>0</td>\n",
       "    </tr>\n",
       "    <tr>\n",
       "      <th>1</th>\n",
       "      <td>1</td>\n",
       "      <td>3</td>\n",
       "      <td>4</td>\n",
       "      <td>What is the story of Kohinoor (Koh-i-Noor) Dia...</td>\n",
       "      <td>What would happen if the Indian government sto...</td>\n",
       "      <td>0</td>\n",
       "    </tr>\n",
       "    <tr>\n",
       "      <th>2</th>\n",
       "      <td>2</td>\n",
       "      <td>5</td>\n",
       "      <td>6</td>\n",
       "      <td>How can I increase the speed of my internet co...</td>\n",
       "      <td>How can Internet speed be increased by hacking...</td>\n",
       "      <td>0</td>\n",
       "    </tr>\n",
       "    <tr>\n",
       "      <th>3</th>\n",
       "      <td>3</td>\n",
       "      <td>7</td>\n",
       "      <td>8</td>\n",
       "      <td>Why am I mentally very lonely? How can I solve...</td>\n",
       "      <td>Find the remainder when [math]23^{24}[/math] i...</td>\n",
       "      <td>0</td>\n",
       "    </tr>\n",
       "    <tr>\n",
       "      <th>4</th>\n",
       "      <td>4</td>\n",
       "      <td>9</td>\n",
       "      <td>10</td>\n",
       "      <td>Which one dissolve in water quikly sugar, salt...</td>\n",
       "      <td>Which fish would survive in salt water?</td>\n",
       "      <td>0</td>\n",
       "    </tr>\n",
       "  </tbody>\n",
       "</table>\n",
       "</div>"
      ],
      "text/plain": [
       "   id  qid1  qid2                                          question1  \\\n",
       "0   0     1     2  What is the step by step guide to invest in sh...   \n",
       "1   1     3     4  What is the story of Kohinoor (Koh-i-Noor) Dia...   \n",
       "2   2     5     6  How can I increase the speed of my internet co...   \n",
       "3   3     7     8  Why am I mentally very lonely? How can I solve...   \n",
       "4   4     9    10  Which one dissolve in water quikly sugar, salt...   \n",
       "\n",
       "                                           question2  is_duplicate  \n",
       "0  What is the step by step guide to invest in sh...             0  \n",
       "1  What would happen if the Indian government sto...             0  \n",
       "2  How can Internet speed be increased by hacking...             0  \n",
       "3  Find the remainder when [math]23^{24}[/math] i...             0  \n",
       "4            Which fish would survive in salt water?             0  "
      ]
     },
     "execution_count": 2,
     "metadata": {},
     "output_type": "execute_result"
    }
   ],
   "source": [
    "train_data = pd.read_csv(\"train.csv\")\n",
    "train_data.head(5)"
   ]
  },
  {
   "cell_type": "code",
   "execution_count": 3,
   "metadata": {
    "collapsed": false
   },
   "outputs": [
    {
     "name": "stdout",
     "output_type": "stream",
     "text": [
      "Question Pairs:  404290\n",
      "Unique Questions: 537933\n",
      "Known Duplicates:  149263\n",
      "Ratio of Duplicate Pairs:  36.92 %\n"
     ]
    }
   ],
   "source": [
    "num_questions = len(train_data)\n",
    "print \"Question Pairs: \", num_questions\n",
    "question_ids = pd.Series(train_data['qid1'].tolist() + train_data['qid2'].tolist())\n",
    "print \"Unique Questions: %d\" %len(np.unique(question_ids))\n",
    "groupby_duplicates = train_data.groupby(\"is_duplicate\")['id'].count()\n",
    "known_duplicates = groupby_duplicates[1]\n",
    "print \"Known Duplicates: \", known_duplicates\n",
    "ratio_duplicates = round((known_duplicates / float(num_questions)) * 100, 2)\n",
    "print  \"Ratio of Duplicate Pairs: \", ratio_duplicates, \"%\""
   ]
  },
  {
   "cell_type": "code",
   "execution_count": 4,
   "metadata": {
    "collapsed": false
   },
   "outputs": [
    {
     "data": {
      "text/html": [
       "<div>\n",
       "<table border=\"1\" class=\"dataframe\">\n",
       "  <thead>\n",
       "    <tr style=\"text-align: right;\">\n",
       "      <th></th>\n",
       "      <th>test_id</th>\n",
       "      <th>question1</th>\n",
       "      <th>question2</th>\n",
       "    </tr>\n",
       "  </thead>\n",
       "  <tbody>\n",
       "    <tr>\n",
       "      <th>0</th>\n",
       "      <td>0</td>\n",
       "      <td>How does the Surface Pro himself 4 compare wit...</td>\n",
       "      <td>Why did Microsoft choose core m3 and not core ...</td>\n",
       "    </tr>\n",
       "    <tr>\n",
       "      <th>1</th>\n",
       "      <td>1</td>\n",
       "      <td>Should I have a hair transplant at age 24? How...</td>\n",
       "      <td>How much cost does hair transplant require?</td>\n",
       "    </tr>\n",
       "    <tr>\n",
       "      <th>2</th>\n",
       "      <td>2</td>\n",
       "      <td>What but is the best way to send money from Ch...</td>\n",
       "      <td>What you send money to China?</td>\n",
       "    </tr>\n",
       "    <tr>\n",
       "      <th>3</th>\n",
       "      <td>3</td>\n",
       "      <td>Which food not emulsifiers?</td>\n",
       "      <td>What foods fibre?</td>\n",
       "    </tr>\n",
       "    <tr>\n",
       "      <th>4</th>\n",
       "      <td>4</td>\n",
       "      <td>How \"aberystwyth\" start reading?</td>\n",
       "      <td>How their can I start reading?</td>\n",
       "    </tr>\n",
       "  </tbody>\n",
       "</table>\n",
       "</div>"
      ],
      "text/plain": [
       "   test_id                                          question1  \\\n",
       "0        0  How does the Surface Pro himself 4 compare wit...   \n",
       "1        1  Should I have a hair transplant at age 24? How...   \n",
       "2        2  What but is the best way to send money from Ch...   \n",
       "3        3                        Which food not emulsifiers?   \n",
       "4        4                   How \"aberystwyth\" start reading?   \n",
       "\n",
       "                                           question2  \n",
       "0  Why did Microsoft choose core m3 and not core ...  \n",
       "1        How much cost does hair transplant require?  \n",
       "2                      What you send money to China?  \n",
       "3                                  What foods fibre?  \n",
       "4                     How their can I start reading?  "
      ]
     },
     "execution_count": 4,
     "metadata": {},
     "output_type": "execute_result"
    }
   ],
   "source": [
    "test_data = pd.read_csv(\"test.csv\")\n",
    "test_data.head(5)"
   ]
  },
  {
   "cell_type": "code",
   "execution_count": 5,
   "metadata": {
    "collapsed": false
   },
   "outputs": [
    {
     "name": "stdout",
     "output_type": "stream",
     "text": [
      "Question Pairs:  2345796\n"
     ]
    }
   ],
   "source": [
    "test_question_pairs = len(test_data)\n",
    "print \"Question Pairs: \", test_question_pairs"
   ]
  },
  {
   "cell_type": "markdown",
   "metadata": {},
   "source": [
    "### Exploratory Visualization\n",
    "#### Word Cloud\n",
    "I will begin by generating a word cloud to get an idea of the topics our questions will be about. The larger words represent words that appear most often and will give us an idea of overall themes or patterns we might see across the dataset."
   ]
  },
  {
   "cell_type": "code",
   "execution_count": 6,
   "metadata": {
    "collapsed": true
   },
   "outputs": [],
   "source": [
    "# import libs for visualization\n",
    "from wordcloud import WordCloud, STOPWORDS\n",
    "import matplotlib.pyplot as plt\n",
    "\n",
    "stopwords=set(STOPWORDS)"
   ]
  },
  {
   "cell_type": "code",
   "execution_count": 7,
   "metadata": {
    "collapsed": false
   },
   "outputs": [
    {
     "data": {
      "image/png": "[encoded data removed]",
      "text/plain": [
       "<matplotlib.figure.Figure at 0x6379400>"
      ]
     },
     "metadata": {},
     "output_type": "display_data"
    }
   ],
   "source": [
    "# Combine all questions for creating single wordcloud\n",
    "train_all_questions = pd.Series(\" \".join(train_data['question1'].astype(str)) + \" \".join(train_data['question2'].astype(str)))\n",
    "\n",
    "# Generate a word cloud image\n",
    "train_wordcloud = WordCloud(\n",
    "                            background_color='white',\n",
    "                            stopwords=stopwords,\n",
    "                            max_font_size=50\n",
    "                           ).generate(\" \".join(train_all_questions))\n",
    "\n",
    "# Display the generated image\n",
    "fig = plt.figure(1)\n",
    "plt.imshow(train_wordcloud)\n",
    "plt.axis(\"off\")\n",
    "plt.show()\n",
    "\n",
    "# Save the image for the report\n",
    "fig.savefig(\"wordcloud.png\", dpi=900)"
   ]
  },
  {
   "cell_type": "markdown",
   "metadata": {},
   "source": [
    "## Pre-Processing"
   ]
  },
  {
   "cell_type": "markdown",
   "metadata": {},
   "source": [
    "Next, I will write a few functions to begin collecting features about the data which I will later use to determine how similar the questions are. I will look at the number of words, the number of characters, and how many words the questions have in common for each set."
   ]
  },
  {
   "cell_type": "code",
   "execution_count": 6,
   "metadata": {
    "collapsed": true
   },
   "outputs": [],
   "source": [
    "def get_char_count(question):\n",
    "    return len(str(question))\n",
    "\n",
    "def get_word_count(question):\n",
    "    return len(str(question).split())\n",
    "\n",
    "def get_common_word_count(questions):\n",
    "    q1, q2 = questions\n",
    "    q1_set = set(str(q1).lower().split())\n",
    "    q2_set = set(str(q2).lower().split())\n",
    "    return len(q1_set & q2_set) "
   ]
  },
  {
   "cell_type": "code",
   "execution_count": 7,
   "metadata": {
    "collapsed": false
   },
   "outputs": [
    {
     "data": {
      "text/html": [
       "<div>\n",
       "<table border=\"1\" class=\"dataframe\">\n",
       "  <thead>\n",
       "    <tr style=\"text-align: right;\">\n",
       "      <th></th>\n",
       "      <th>q1_chars</th>\n",
       "      <th>q2_chars</th>\n",
       "      <th>q1_words</th>\n",
       "      <th>q2_words</th>\n",
       "      <th>common_words</th>\n",
       "    </tr>\n",
       "  </thead>\n",
       "  <tbody>\n",
       "    <tr>\n",
       "      <th>0</th>\n",
       "      <td>66</td>\n",
       "      <td>57</td>\n",
       "      <td>14</td>\n",
       "      <td>12</td>\n",
       "      <td>10</td>\n",
       "    </tr>\n",
       "    <tr>\n",
       "      <th>1</th>\n",
       "      <td>51</td>\n",
       "      <td>88</td>\n",
       "      <td>8</td>\n",
       "      <td>13</td>\n",
       "      <td>4</td>\n",
       "    </tr>\n",
       "    <tr>\n",
       "      <th>2</th>\n",
       "      <td>73</td>\n",
       "      <td>59</td>\n",
       "      <td>14</td>\n",
       "      <td>10</td>\n",
       "      <td>4</td>\n",
       "    </tr>\n",
       "    <tr>\n",
       "      <th>3</th>\n",
       "      <td>50</td>\n",
       "      <td>65</td>\n",
       "      <td>11</td>\n",
       "      <td>9</td>\n",
       "      <td>0</td>\n",
       "    </tr>\n",
       "    <tr>\n",
       "      <th>4</th>\n",
       "      <td>76</td>\n",
       "      <td>39</td>\n",
       "      <td>13</td>\n",
       "      <td>7</td>\n",
       "      <td>2</td>\n",
       "    </tr>\n",
       "  </tbody>\n",
       "</table>\n",
       "</div>"
      ],
      "text/plain": [
       "   q1_chars  q2_chars  q1_words  q2_words  common_words\n",
       "0        66        57        14        12            10\n",
       "1        51        88         8        13             4\n",
       "2        73        59        14        10             4\n",
       "3        50        65        11         9             0\n",
       "4        76        39        13         7             2"
      ]
     },
     "execution_count": 7,
     "metadata": {},
     "output_type": "execute_result"
    }
   ],
   "source": [
    "# Create a DataFrame to hold the extracted features\n",
    "train_feats = pd.DataFrame(dtype='float64')\n",
    "\n",
    "# Get the number of characters in each question\n",
    "train_feats['q1_chars'] = train_data['question1'].map(get_char_count)\n",
    "train_feats['q2_chars'] = train_data['question2'].map(get_char_count)\n",
    "\n",
    "# Get the number of words in each question\n",
    "train_feats['q1_words'] = train_data['question1'].map(get_word_count)\n",
    "train_feats['q2_words'] = train_data['question2'].map(get_word_count)\n",
    "\n",
    "# Get the number of common words. \n",
    "# Use .apply since we are working with a Series; \n",
    "# axis=1 refers to columns instead of default row calculations\n",
    "train_feats['common_words'] = train_data[['question1','question2']].apply(get_common_word_count, axis=1)\n",
    "\n",
    "train_feats.head(5)"
   ]
  },
  {
   "cell_type": "code",
   "execution_count": 8,
   "metadata": {
    "collapsed": false
   },
   "outputs": [
    {
     "data": {
      "text/html": [
       "<div>\n",
       "<table border=\"1\" class=\"dataframe\">\n",
       "  <thead>\n",
       "    <tr style=\"text-align: right;\">\n",
       "      <th></th>\n",
       "      <th>q1_chars</th>\n",
       "      <th>q2_chars</th>\n",
       "      <th>q1_words</th>\n",
       "      <th>q2_words</th>\n",
       "      <th>common_words</th>\n",
       "    </tr>\n",
       "  </thead>\n",
       "  <tbody>\n",
       "    <tr>\n",
       "      <th>0</th>\n",
       "      <td>57</td>\n",
       "      <td>68</td>\n",
       "      <td>11</td>\n",
       "      <td>14</td>\n",
       "      <td>2</td>\n",
       "    </tr>\n",
       "    <tr>\n",
       "      <th>1</th>\n",
       "      <td>66</td>\n",
       "      <td>43</td>\n",
       "      <td>14</td>\n",
       "      <td>7</td>\n",
       "      <td>4</td>\n",
       "    </tr>\n",
       "    <tr>\n",
       "      <th>2</th>\n",
       "      <td>60</td>\n",
       "      <td>29</td>\n",
       "      <td>14</td>\n",
       "      <td>6</td>\n",
       "      <td>4</td>\n",
       "    </tr>\n",
       "    <tr>\n",
       "      <th>3</th>\n",
       "      <td>27</td>\n",
       "      <td>17</td>\n",
       "      <td>4</td>\n",
       "      <td>3</td>\n",
       "      <td>0</td>\n",
       "    </tr>\n",
       "    <tr>\n",
       "      <th>4</th>\n",
       "      <td>32</td>\n",
       "      <td>30</td>\n",
       "      <td>4</td>\n",
       "      <td>6</td>\n",
       "      <td>3</td>\n",
       "    </tr>\n",
       "  </tbody>\n",
       "</table>\n",
       "</div>"
      ],
      "text/plain": [
       "   q1_chars  q2_chars  q1_words  q2_words  common_words\n",
       "0        57        68        11        14             2\n",
       "1        66        43        14         7             4\n",
       "2        60        29        14         6             4\n",
       "3        27        17         4         3             0\n",
       "4        32        30         4         6             3"
      ]
     },
     "execution_count": 8,
     "metadata": {},
     "output_type": "execute_result"
    }
   ],
   "source": [
    "# Create a DataFrame to hold the extracted features\n",
    "test_feats = pd.DataFrame(dtype='float64')\n",
    "\n",
    "# Get the number of characters in each question\n",
    "test_feats['q1_chars'] = test_data['question1'].map(get_char_count)\n",
    "test_feats['q2_chars'] = test_data['question2'].map(get_char_count)\n",
    "\n",
    "# Get the number of words in each question\n",
    "test_feats['q1_words'] = test_data['question1'].map(get_word_count)\n",
    "test_feats['q2_words'] = test_data['question2'].map(get_word_count)\n",
    "\n",
    "# Get the number of common words. \n",
    "# Use .apply since we are working with a Series; \n",
    "# axis=1 refers to columns instead of default row calculations\n",
    "test_feats['common_words'] = test_data[['question1','question2']].apply(get_common_word_count, axis=1)\n",
    "\n",
    "test_feats.head(5)"
   ]
  },
  {
   "cell_type": "markdown",
   "metadata": {},
   "source": [
    "#### TF-IDF Vectorization\n",
    "Next we will generate a Tf-idf-weighted term-document matrix. \n",
    "Tf-idf is term frequency-inverse document frequency, which is a statistic that reflects the importance of a word in a specific document (in our case, a question) relative to all of the words in a collection of documents known as the corpus (in our case, all of the questions)."
   ]
  },
  {
   "cell_type": "code",
   "execution_count": 9,
   "metadata": {
    "collapsed": false
   },
   "outputs": [
    {
     "name": "stderr",
     "output_type": "stream",
     "text": [
      "C:\\Users\\brett\\Anaconda2\\lib\\site-packages\\sklearn\\feature_extraction\\text.py:1059: FutureWarning: Conversion of the second argument of issubdtype from `float` to `np.floating` is deprecated. In future, it will be treated as `np.float64 == np.dtype(float).type`.\n",
      "  if hasattr(X, 'dtype') and np.issubdtype(X.dtype, np.float):\n"
     ]
    }
   ],
   "source": [
    "# http://scikit-learn.org/stable/modules/generated/sklearn.feature_extraction.text.TfidfVectorizer.html#sklearn.feature_extraction.text.TfidfVectorizer\n",
    "# import tools for Feature Extraction\n",
    "from sklearn.feature_extraction.text import TfidfVectorizer\n",
    "from sklearn.metrics.pairwise import cosine_similarity\n",
    "\n",
    "vectorizer = TfidfVectorizer(stop_words='english')\n",
    "\n",
    "train_data.dropna()\n",
    "test_data.dropna()\n",
    "\n",
    "train_q1s = train_data['question1'].astype(str)\n",
    "train_q2s = train_data['question2'].astype(str)\n",
    "\n",
    "test_q1s = test_data['question1'].astype(str)\n",
    "test_q2s = test_data['question2'].astype(str)\n",
    "\n",
    "train_corpus = pd.concat([train_q1s, train_q2s])\n",
    "test_corpus = pd.concat([test_q1s, test_q2s])\n",
    "\n",
    "# Learn the vocabulary dictionary and return term-document matrix. \n",
    "train_tfidf = vectorizer.fit(train_corpus)\n",
    "test_tfidf = vectorizer.fit(test_corpus)\n",
    "\n",
    "# Transform Q1s and Q2s to their vector representations\n",
    "train_tr1 = vectorizer.transform(train_q1s)\n",
    "train_tr2 = vectorizer.transform(train_q2s)\n",
    "\n",
    "test_tr1 = vectorizer.transform(test_q1s)\n",
    "test_tr2 = vectorizer.transform(test_q2s)"
   ]
  },
  {
   "cell_type": "code",
   "execution_count": 10,
   "metadata": {
    "collapsed": false
   },
   "outputs": [
    {
     "name": "stdout",
     "output_type": "stream",
     "text": [
      "   q1_chars  q2_chars  q1_words  q2_words  common_words  cosine_similarity\n",
      "0        66        57        14        12            10           0.981813\n",
      "1        51        88         8        13             4           0.787486\n",
      "2        73        59        14        10             4           0.273050\n",
      "3        50        65        11         9             0           0.000000\n",
      "4        76        39        13         7             2           0.243959\n"
     ]
    }
   ],
   "source": [
    "# Calculate the cosine angle between the tr1 (Q1) and tr2 (Q2) vectors to determine how similar they are\n",
    "train_cos_sim = []\n",
    "\n",
    "for i in range(len(train_data)):\n",
    "    cosine_sim = cosine_similarity(train_tr1[i],train_tr2[i])\n",
    "    train_cos_sim.append(cosine_sim[0][0])\n",
    "    \n",
    "# Add cosine similarity as a feature for each question pair    \n",
    "train_feats['cosine_similarity'] = train_cos_sim\n",
    "\n",
    "print train_feats.head()"
   ]
  },
  {
   "cell_type": "code",
   "execution_count": 11,
   "metadata": {
    "collapsed": false
   },
   "outputs": [
    {
     "name": "stdout",
     "output_type": "stream",
     "text": [
      "   q1_chars  q2_chars  q1_words  q2_words  common_words  cosine_similarity\n",
      "0        57        68        11        14             2           0.323625\n",
      "1        66        43        14         7             4           0.635087\n",
      "2        60        29        14         6             4           0.878841\n",
      "3        27        17         4         3             0           0.000000\n",
      "4        32        30         4         6             3           0.575742\n"
     ]
    }
   ],
   "source": [
    "# Calculate the cosine angle between the tr1 (Q1) and tr2 (Q2) vectors to determine how similar they are\n",
    "test_cos_sim = []\n",
    "\n",
    "for i in range(len(test_data)):\n",
    "    cosine_sim = cosine_similarity(test_tr1[i],test_tr2[i])\n",
    "    test_cos_sim.append(cosine_sim[0][0])\n",
    "    \n",
    "# Add cosine similarity as a feature for each set    \n",
    "test_feats['cosine_similarity'] = test_cos_sim\n",
    "\n",
    "print test_feats.head()"
   ]
  },
  {
   "cell_type": "code",
   "execution_count": 12,
   "metadata": {
    "collapsed": false
   },
   "outputs": [],
   "source": [
    "# Standardize the data\n",
    "from sklearn.preprocessing import StandardScaler\n",
    "\n",
    "std_scaler = StandardScaler()\n",
    "train_feats_std = std_scaler.fit_transform(train_feats)\n",
    "test_feats_std = std_scaler.fit_transform(test_feats)"
   ]
  },
  {
   "cell_type": "markdown",
   "metadata": {},
   "source": [
    "Next, we will split the train_data into training and test sets. We will train using only a portion of our training data from the dataset. This way, we can then run the model against the reamining portion of the training questions and check against the actual value (is_duplicate) to see how accurate our model is."
   ]
  },
  {
   "cell_type": "code",
   "execution_count": 13,
   "metadata": {
    "collapsed": false
   },
   "outputs": [
    {
     "name": "stderr",
     "output_type": "stream",
     "text": [
      "C:\\Users\\brett\\Anaconda2\\lib\\site-packages\\sklearn\\cross_validation.py:44: DeprecationWarning: This module was deprecated in version 0.18 in favor of the model_selection module into which all the refactored classes and functions are moved. Also note that the interface of the new CV iterators are different from that of this module. This module will be removed in 0.20.\n",
      "  \"This module will be removed in 0.20.\", DeprecationWarning)\n"
     ]
    }
   ],
   "source": [
    "from sklearn.cross_validation import train_test_split\n",
    "\n",
    "labels = train_data['is_duplicate']\n",
    "\n",
    "# Shuffle and split the data into training and testing subsets\n",
    "X_train, X_test, y_train, y_test = train_test_split(train_feats, labels, test_size=0.2, random_state=10)\n",
    "X_train_std, X_test_std, y_train_std, y_test_std = train_test_split(train_feats_std, labels, test_size=0.2, random_state=10)"
   ]
  },
  {
   "cell_type": "markdown",
   "metadata": {},
   "source": [
    "### Benchmark Model"
   ]
  },
  {
   "cell_type": "code",
   "execution_count": 24,
   "metadata": {
    "collapsed": false
   },
   "outputs": [
    {
     "name": "stdout",
     "output_type": "stream",
     "text": [
      "Benchmark acurracy: 0.713\n"
     ]
    }
   ],
   "source": [
    "from sklearn.ensemble import RandomForestClassifier\n",
    "\n",
    "rfc = RandomForestClassifier()\n",
    "rfc.fit(X_train_std,y_train_std)\n",
    "rfc_score = rfc.score(X_test_std, y_test_std)\n",
    "\n",
    "print \"Benchmark acurracy: %.3f\" %rfc_score"
   ]
  },
  {
   "cell_type": "code",
   "execution_count": 33,
   "metadata": {
    "collapsed": false
   },
   "outputs": [],
   "source": [
    "# Prepare Kaggle Submission\n",
    "prediction = rfc.predict_proba(test_feats_std)\n",
    "submission = pd.DataFrame({'is_duplicate': prediction[:,1], 'test_id': test_data['test_id']})\n",
    "submission.to_csv('rfc.csv', index=False, columns=['test_id', 'is_duplicate'])"
   ]
  },
  {
   "cell_type": "markdown",
   "metadata": {},
   "source": [
    "Kaggle Score: 1.437"
   ]
  },
  {
   "cell_type": "markdown",
   "metadata": {},
   "source": [
    "## Implementation"
   ]
  },
  {
   "cell_type": "markdown",
   "metadata": {},
   "source": [
    "#### Imports\n",
    "Run this block to import necessary libraries for the algorithms below."
   ]
  },
  {
   "cell_type": "code",
   "execution_count": 14,
   "metadata": {
    "collapsed": true
   },
   "outputs": [],
   "source": [
    "from sklearn.tree import DecisionTreeClassifier\n",
    "from sklearn.model_selection import GridSearchCV\n",
    "from sklearn.neighbors import KNeighborsClassifier\n",
    "from sklearn.linear_model import LogisticRegression\n",
    "from sklearn.svm import SVC\n",
    "from sklearn.naive_bayes import MultinomialNB\n",
    "from sklearn.ensemble import BaggingClassifier\n",
    "from sklearn.multiclass import OneVsRestClassifier"
   ]
  },
  {
   "cell_type": "markdown",
   "metadata": {},
   "source": [
    "### Decision Tree"
   ]
  },
  {
   "cell_type": "code",
   "execution_count": 28,
   "metadata": {
    "collapsed": false
   },
   "outputs": [
    {
     "name": "stdout",
     "output_type": "stream",
     "text": [
      "Decision Tree acurracy: 0.686\n"
     ]
    }
   ],
   "source": [
    "dtc = DecisionTreeClassifier()\n",
    "dtc.fit(X_train_std, y_train_std)\n",
    "dtc_score = dtc.score(X_test_std,y_test_std)\n",
    "\n",
    "print \"Decision Tree acurracy: %.3f\" %dtc_score"
   ]
  },
  {
   "cell_type": "code",
   "execution_count": 36,
   "metadata": {
    "collapsed": true
   },
   "outputs": [],
   "source": [
    "# Prepare Kaggle Submission\n",
    "prediction = dtc.predict_proba(test_feats_std)\n",
    "submission = pd.DataFrame({'test_id': test_data['test_id'], 'is_duplicate': prediction[:,1]})\n",
    "submission.to_csv('dtc.csv', index=False)"
   ]
  },
  {
   "cell_type": "markdown",
   "metadata": {},
   "source": [
    "Kaggle Score: 13.327\n",
    "\n",
    "This score is incredibly high in comparison to the others. This is due to the fact that the Kaggle Scorer is expecting to receive a probability that a pair of questions is similar. Instead, this algorithm returns a binary (1 or 0, true or false) answer."
   ]
  },
  {
   "cell_type": "markdown",
   "metadata": {},
   "source": [
    "### K-Nearest Neighbors"
   ]
  },
  {
   "cell_type": "code",
   "execution_count": 34,
   "metadata": {
    "collapsed": false
   },
   "outputs": [
    {
     "name": "stdout",
     "output_type": "stream",
     "text": [
      "KNN acurracy: 0.724\n",
      "{'n_neighbors': 19, 'weights': 'uniform'}\n"
     ]
    }
   ],
   "source": [
    "knc = KNeighborsClassifier()\n",
    "\n",
    "grid = { \n",
    "    'n_neighbors': list(range(5,21,2)),\n",
    "    'weights': ['uniform', 'distance']\n",
    "}\n",
    "\n",
    "cv = GridSearchCV(knc, grid, scoring=\"neg_log_loss\")\n",
    "\n",
    "cv.fit(X_train_std, y_train_std)\n",
    "knc_score = cv.best_estimator_.score(X_test_std, y_test_std)\n",
    "\n",
    "print \"KNN acurracy: %.3f\" %knc_score\n",
    "print cv.best_params_"
   ]
  },
  {
   "cell_type": "code",
   "execution_count": 37,
   "metadata": {
    "collapsed": true
   },
   "outputs": [],
   "source": [
    "# Prepare Kaggle Submission\n",
    "knn = KNeighborsClassifier(n_neighbors=19, weights='uniform')\n",
    "knn.fit(X_train_std, y_train_std)\n",
    "prediction = knn.predict_proba(test_feats_std)\n",
    "submission = pd.DataFrame({'test_id': test_data['test_id'], 'is_duplicate': prediction[:,1]})\n",
    "submission.to_csv('knn.csv', index=False, columns=['test_id','is_duplicate'])"
   ]
  },
  {
   "cell_type": "markdown",
   "metadata": {},
   "source": [
    "Kaggle Score: 0.756"
   ]
  },
  {
   "cell_type": "markdown",
   "metadata": {},
   "source": [
    "### Logistic Regression"
   ]
  },
  {
   "cell_type": "code",
   "execution_count": 45,
   "metadata": {
    "collapsed": false
   },
   "outputs": [
    {
     "name": "stdout",
     "output_type": "stream",
     "text": [
      "Logistic Regression acurracy: 0.666\n",
      "{'penalty': 'l2', 'C': 1}\n"
     ]
    }
   ],
   "source": [
    "logr = LogisticRegression()\n",
    "\n",
    "grid = {\n",
    "    'C' : [0.001, 0.01, 0.1, 1, 10, 100, 1000],\n",
    "    'penalty': ['l1','l2']\n",
    "}\n",
    "\n",
    "cv = GridSearchCV(logr, grid)\n",
    "\n",
    "cv.fit(X_train_std, y_train_std)\n",
    "logr_score = cv.best_estimator_.score(X_test_std, y_test_std)\n",
    "\n",
    "print \"Logistic Regression acurracy: %.3f\" %logr_score\n",
    "print cv.best_params_"
   ]
  },
  {
   "cell_type": "code",
   "execution_count": 46,
   "metadata": {
    "collapsed": false
   },
   "outputs": [],
   "source": [
    "# Prepare Kaggle Submission\n",
    "lr = LogisticRegression(C=1, penalty='l2')\n",
    "lr.fit(X_train_std, y_train_std)\n",
    "prediction = lr.predict_proba(test_feats_std)\n",
    "submission = pd.DataFrame({'test_id': test_data['test_id'], 'is_duplicate': prediction[:,1]})\n",
    "submission.to_csv('log_reg.csv', index=False, columns=['test_id','is_duplicate'])"
   ]
  },
  {
   "cell_type": "markdown",
   "metadata": {},
   "source": [
    "Kaggle Score: 0.606"
   ]
  },
  {
   "cell_type": "markdown",
   "metadata": {},
   "source": [
    "### Support Vector Machine"
   ]
  },
  {
   "cell_type": "code",
   "execution_count": 41,
   "metadata": {
    "collapsed": false
   },
   "outputs": [
    {
     "name": "stdout",
     "output_type": "stream",
     "text": [
      "Starting SVM\n"
     ]
    },
    {
     "name": "stderr",
     "output_type": "stream",
     "text": [
      "C:\\Users\\brett\\Anaconda2\\lib\\site-packages\\sklearn\\svm\\base.py:220: ConvergenceWarning: Solver terminated early (max_iter=5000).  Consider pre-processing your data with StandardScaler or MinMaxScaler.\n",
      "  % self.max_iter, ConvergenceWarning)\n"
     ]
    },
    {
     "name": "stdout",
     "output_type": "stream",
     "text": [
      "SVM accuracy: 0.528\n",
      "{'kernel': 'sigmoid', 'C': 1}\n"
     ]
    }
   ],
   "source": [
    "svm = SVC(max_iter=5000, probability=True)\n",
    "\n",
    "grid = {\n",
    "    'kernel': ['sigmoid', 'linear', 'poly', 'rbf'],\n",
    "    'C': [0.001, 1, 1000]\n",
    "}\n",
    "\n",
    "print \"Starting SVM\"\n",
    "\n",
    "cv = GridSearchCV(svm, grid, scoring=\"neg_log_loss\")\n",
    "cv.fit(X_train_std, y_train_std)\n",
    "svm_score = cv.best_estimator_.score(X_test_std, y_test_std)\n",
    "\n",
    "print \"SVM accuracy: %.3f\" %svm_score\n",
    "print cv.best_params_"
   ]
  },
  {
   "cell_type": "code",
   "execution_count": 44,
   "metadata": {
    "collapsed": true
   },
   "outputs": [],
   "source": [
    "# Prepare Kaggle Submission\n",
    "svc = SVC(max_iter=5000, probability=True, kernel='sigmoid', C=1)\n",
    "svc.fit(X_train_std, y_train_std)\n",
    "prediction = svc.predict_proba(test_feats_std)\n",
    "submission = pd.DataFrame({'test_id': test_data['test_id'], 'is_duplicate': prediction[:,1]})\n",
    "submission.to_csv('svm.csv', index=False, columns=['test_id','is_duplicate'])"
   ]
  },
  {
   "cell_type": "markdown",
   "metadata": {},
   "source": [
    "Kaggle Score: 0.555"
   ]
  },
  {
   "cell_type": "markdown",
   "metadata": {},
   "source": [
    "### Multinomial Naive Bayes"
   ]
  },
  {
   "cell_type": "code",
   "execution_count": 42,
   "metadata": {
    "collapsed": false
   },
   "outputs": [
    {
     "name": "stdout",
     "output_type": "stream",
     "text": [
      "Multinomial Naive Bayes accuracy: 0.674\n"
     ]
    }
   ],
   "source": [
    "mnb = MultinomialNB()\n",
    "mnb.fit(X_train, y_train)\n",
    "mnb_score = mnb.score(X_test, y_test)\n",
    "\n",
    "print \"Multinomial Naive Bayes accuracy: %.3f\" %mnb_score"
   ]
  },
  {
   "cell_type": "code",
   "execution_count": 43,
   "metadata": {
    "collapsed": true
   },
   "outputs": [],
   "source": [
    "# Prepare Kaggle Submission\n",
    "prediction = mnb.predict_proba(test_feats_std)\n",
    "submission = pd.DataFrame({'test_id': test_data['test_id'], 'is_duplicate': prediction[:,1]})\n",
    "submission.to_csv('mnb.csv', index=False)"
   ]
  },
  {
   "cell_type": "markdown",
   "metadata": {},
   "source": [
    "Kaggle Score: 0.659"
   ]
  },
  {
   "cell_type": "markdown",
   "metadata": {},
   "source": [
    "## Refinement"
   ]
  },
  {
   "cell_type": "code",
   "execution_count": 15,
   "metadata": {
    "collapsed": false
   },
   "outputs": [
    {
     "name": "stdout",
     "output_type": "stream",
     "text": [
      "Bagged Linear SVC accuracy: 0.633\n"
     ]
    }
   ],
   "source": [
    "n_estimators = 1000\n",
    "svc_bag = OneVsRestClassifier(\n",
    "    BaggingClassifier(\n",
    "        SVC(kernel='linear', C=100, max_iter=10000, probability=True, class_weight='auto'), \n",
    "        bootstrap=False, max_samples=1.0/n_estimators, n_estimators=n_estimators, n_jobs=-1\n",
    "    )\n",
    ")\n",
    "svc_bag.fit(X_train_std, y_train_std)\n",
    "svc_bag_score = svc_bag.score(X_test, y_test_std)\n",
    "\n",
    "print \"Bagged Linear SVC accuracy: %.3f\" %svc_bag_score"
   ]
  },
  {
   "cell_type": "code",
   "execution_count": 30,
   "metadata": {
    "collapsed": false
   },
   "outputs": [],
   "source": [
    "# Prepare Kaggle Submission\n",
    "prediction = svc_bag.predict_proba(test_feats_std)\n",
    "submission = pd.DataFrame({'test_id': test_data['test_id'], 'is_duplicate': prediction[:,1]})\n",
    "submission.to_csv('bagged_svm.csv', index=False, columns=['test_id','is_duplicate'])"
   ]
  },
  {
   "cell_type": "markdown",
   "metadata": {},
   "source": [
    "Kaggle Score: 0.545"
   ]
  },
  {
   "cell_type": "code",
   "execution_count": null,
   "metadata": {
    "collapsed": true
   },
   "outputs": [],
   "source": []
  }
 ],
 "metadata": {
  "kernelspec": {
   "display_name": "Python 2",
   "language": "python",
   "name": "python2"
  },
  "language_info": {
   "codemirror_mode": {
    "name": "ipython",
    "version": 2
   },
   "file_extension": ".py",
   "mimetype": "text/x-python",
   "name": "python",
   "nbconvert_exporter": "python",
   "pygments_lexer": "ipython2",
   "version": "2.7.13"
  }
 },
 "nbformat": 4,
 "nbformat_minor": 2
}
